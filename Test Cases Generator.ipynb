{
 "cells": [
  {
   "cell_type": "code",
   "execution_count": null,
   "source": [
    "import random"
   ],
   "outputs": [],
   "metadata": {}
  },
  {
   "cell_type": "code",
   "execution_count": null,
   "source": [
    "ALL_NUMS = range(1, 1000000001)\r\n",
    "random.choices(ALL_NUMS, k=5)"
   ],
   "outputs": [],
   "metadata": {}
  },
  {
   "cell_type": "code",
   "execution_count": null,
   "source": [
    "def getRandInt(minValue, maxValue):\r\n",
    "    return random.randint(minValue, maxValue)\r\n",
    "    \r\n",
    "def getRandList(minValue, maxValue, minSize, maxSize):\r\n",
    "    size = random.randint(minSize, maxSize)\r\n",
    "    return [random.randint(minValue, maxValue) for _ in range(size)]\r\n",
    "\r\n",
    "def getUniqueRandList(minValue, maxValue, minSize, maxSize):\r\n",
    "    size = random.randint(minSize, maxSize)\r\n",
    "    return random.sample(range(minValue, maxValue+1), k=size)\r\n",
    "\r\n",
    "def getRandMatrix(minValue, maxValue, minRows, maxRows, minCols, maxCols):\r\n",
    "    rows = getRandInt(minRows, maxRows)\r\n",
    "    cols = getRandInt(minCols, maxCols)\r\n",
    "    return [getRandList(minValue, maxValue, cols, cols) for _ in range(rows)]\r\n",
    "    "
   ],
   "outputs": [],
   "metadata": {}
  },
  {
   "cell_type": "code",
   "execution_count": null,
   "source": [
    "for _ in range(10):\r\n",
    "    N = getRandInt(1, 10)\r\n",
    "    K = getRandInt(1, N)\r\n",
    "    nums = getRandList(1, 50, N, N)\r\n",
    "    \r\n",
    "    \r\n",
    "    print(f'{(nums, K)}')"
   ],
   "outputs": [],
   "metadata": {
    "collapsed": true
   }
  },
  {
   "cell_type": "code",
   "execution_count": null,
   "source": [
    "for _ in range(10):\r\n",
    "    print(getRandMatrix(0, 10, 5, 50, 5, 50))"
   ],
   "outputs": [],
   "metadata": {}
  },
  {
   "cell_type": "code",
   "execution_count": null,
   "source": [
    "import json\r\n",
    "\r\n",
    "def makeRandWord(letters='abcde', minSize=0, maxSize=5):\r\n",
    "    size = getRandInt(minSize, maxSize)\r\n",
    "    word_arr = random.choices(letters, k=size)\r\n",
    "    return ''.join(word_arr)\r\n",
    "\r\n",
    "makeRandWord('123456789#', 5, 40)"
   ],
   "outputs": [],
   "metadata": {}
  },
  {
   "cell_type": "code",
   "execution_count": null,
   "source": [
    "for _ in range(50):\r\n",
    "    size = getRandInt(5, 40)\r\n",
    "    word_arr = random.choices('0123456789#', weights=[5]*10 + [50], k=size)\r\n",
    "    print('\"' + ','.join(word_arr) + '\"')"
   ],
   "outputs": [],
   "metadata": {}
  }
 ],
 "metadata": {
  "kernelspec": {
   "name": "python3",
   "display_name": "Python 3.8.10 64-bit"
  },
  "language_info": {
   "codemirror_mode": {
    "name": "ipython",
    "version": 3
   },
   "file_extension": ".py",
   "mimetype": "text/x-python",
   "name": "python",
   "nbconvert_exporter": "python",
   "pygments_lexer": "ipython3",
   "version": "3.8.10"
  },
  "interpreter": {
   "hash": "058c1e58132a3bf15c37ae615f45b87d219050562e123d665b30c310bd5518c6"
  }
 },
 "nbformat": 4,
 "nbformat_minor": 2
}