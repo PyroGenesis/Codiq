{
 "cells": [
  {
   "cell_type": "code",
   "execution_count": null,
   "metadata": {},
   "outputs": [],
   "source": [
    "import random"
   ]
  },
  {
   "cell_type": "code",
   "execution_count": null,
   "metadata": {},
   "outputs": [],
   "source": [
    "ALL_NUMS = range(1, 1000000001)\n",
    "random.choices(ALL_NUMS, k=5)"
   ]
  },
  {
   "cell_type": "code",
   "execution_count": null,
   "metadata": {},
   "outputs": [],
   "source": [
    "def getRandInt(minValue, maxValue):\n",
    "    return random.randint(minValue, maxValue)\n",
    "    \n",
    "def getRandList(minValue, maxValue, minSize, maxSize):\n",
    "    size = random.randint(minSize, maxSize)\n",
    "    return [random.randint(minValue, maxValue) for _ in range(size)]\n",
    "\n",
    "def getUniqueRandList(minValue, maxValue, minSize, maxSize):\n",
    "    size = random.randint(minSize, maxSize)\n",
    "    return random.sample(range(minValue, maxValue+1), k=size)\n",
    "\n",
    "def getRandMatrix(minValue, maxValue, minRows, maxRows, minCols, maxCols):\n",
    "    rows = getRandInt(minRows, maxRows)\n",
    "    cols = getRandInt(minCols, maxCols)\n",
    "    return [getRandList(minValue, maxValue, cols, cols) for _ in range(rows)]\n",
    "    "
   ]
  },
  {
   "cell_type": "code",
   "execution_count": null,
   "metadata": {
    "collapsed": true
   },
   "outputs": [],
   "source": [
    "for _ in range(10):\n",
    "    N = getRandInt(1, 10)\n",
    "    K = getRandInt(1, N)\n",
    "    nums = getRandList(1, 50, N, N)\n",
    "    \n",
    "    \n",
    "    print(f'{(nums, K)}')"
   ]
  },
  {
   "cell_type": "code",
   "execution_count": null,
   "metadata": {},
   "outputs": [],
   "source": [
    "for _ in range(10):\n",
    "    print(getRandMatrix(0, 10, 5, 50, 5, 50))"
   ]
  },
  {
   "cell_type": "code",
   "execution_count": null,
   "metadata": {},
   "outputs": [],
   "source": [
    "import json\n",
    "\n",
    "def makeRandWord(letters='abcde', minSize=0, maxSize=5):\n",
    "    size = getRandInt(minSize, maxSize)\n",
    "    word_arr = random.choices(letters, k=size)\n",
    "    return ''.join(word_arr)\n",
    "\n",
    "for _ in range(20):\n",
    "    words = []\n",
    "    for _ in range(100):\n",
    "        words.append(makeRandWord('abcdefghijklmnopqrstuvwxyz', 1, 5))\n",
    "    print(json.dumps(words))\n"
   ]
  },
  {
   "cell_type": "code",
   "execution_count": null,
   "metadata": {},
   "outputs": [],
   "source": [
    "# random tree 1\n",
    "for _ in range(50):\n",
    "    size = getRandInt(5, 40)\n",
    "    word_arr = random.choices('0123456789#', weights=[5]*10 + [50], k=size)\n",
    "    print('\"' + ','.join(word_arr) + '\"')"
   ]
  },
  {
   "cell_type": "code",
   "execution_count": null,
   "metadata": {},
   "outputs": [],
   "source": [
    "# random tree 2\n",
    "for _ in range(10):\n",
    "    size = getRandInt(10, 40)\n",
    "    tree = random.choices(list(range(100)) + ['null'], weights=[0.75]*100 + [25], k=size)\n",
    "    print('[' + ','.join(str(x) for x in tree) + ']')"
   ]
  }
 ],
 "metadata": {
  "interpreter": {
   "hash": "058c1e58132a3bf15c37ae615f45b87d219050562e123d665b30c310bd5518c6"
  },
  "kernelspec": {
   "display_name": "Python 3.8.10 64-bit",
   "name": "python3"
  },
  "language_info": {
   "codemirror_mode": {
    "name": "ipython",
    "version": 3
   },
   "file_extension": ".py",
   "mimetype": "text/x-python",
   "name": "python",
   "nbconvert_exporter": "python",
   "pygments_lexer": "ipython3",
   "version": "3.9.7"
  }
 },
 "nbformat": 4,
 "nbformat_minor": 2
}
